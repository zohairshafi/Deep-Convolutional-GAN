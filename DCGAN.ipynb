{
  "nbformat": 4,
  "nbformat_minor": 0,
  "metadata": {
    "colab": {
      "name": "DCGAN.ipynb",
      "version": "0.3.2",
      "provenance": []
    },
    "kernelspec": {
      "name": "python3",
      "display_name": "Python 3"
    },
    "accelerator": "TPU"
  },
  "cells": [
    {
      "metadata": {
        "id": "N7OmdFrYvX_4",
        "colab_type": "text"
      },
      "cell_type": "markdown",
      "source": [
        "# Import Packages"
      ]
    },
    {
      "metadata": {
        "id": "9gKbDFu2otWR",
        "colab_type": "code",
        "colab": {}
      },
      "cell_type": "code",
      "source": [
        "import keras\n",
        "from keras.datasets import mnist\n",
        "from keras.layers import Input, Dense, Reshape, Flatten, Dropout\n",
        "from keras.layers.advanced_activations import LeakyReLU\n",
        "from keras.layers.convolutional import UpSampling2D, Conv2D\n",
        "from keras.models import Sequential, Model\n",
        "from keras.layers import BatchNormalization, Activation, ZeroPadding2D\n",
        "from keras.optimizers import Adam\n",
        "\n",
        "import numpy as np\n",
        "\n",
        "import os\n",
        "import matplotlib.pyplot as plt\n",
        "\n",
        "from google.colab import files\n"
      ],
      "execution_count": 0,
      "outputs": []
    },
    {
      "metadata": {
        "id": "xbRrau2_veTC",
        "colab_type": "text"
      },
      "cell_type": "markdown",
      "source": [
        "# Model Variables"
      ]
    },
    {
      "metadata": {
        "id": "_DekFoKupFxr",
        "colab_type": "code",
        "colab": {}
      },
      "cell_type": "code",
      "source": [
        "imageRows = 28\n",
        "imageColumns = 28  \n",
        "imageChannels = 1\n",
        "\n",
        "imageShape = (imageRows, imageColumns, imageChannels)\n",
        "\n",
        "imageLatentDimension = 100\n",
        "\n",
        "optimizer = Adam(0.0002, 0.5)"
      ],
      "execution_count": 0,
      "outputs": []
    },
    {
      "metadata": {
        "id": "Qdw8Rgq9yVa8",
        "colab_type": "text"
      },
      "cell_type": "markdown",
      "source": [
        "# Models "
      ]
    },
    {
      "metadata": {
        "id": "ohx5aam3yXbY",
        "colab_type": "text"
      },
      "cell_type": "markdown",
      "source": [
        "**Generator Model**"
      ]
    },
    {
      "metadata": {
        "id": "ySjpPrWAyVBE",
        "colab_type": "code",
        "colab": {}
      },
      "cell_type": "code",
      "source": [
        "def generator():\n",
        "  \n",
        "  model = Sequential()\n",
        "  \n",
        "  model.add(Dense(128 * 7 * 7, activation = 'relu', input_dim = imageLatentDimension))\n",
        "  model.add(Reshape((7, 7, 128)))\n",
        "  \n",
        "  model.add(UpSampling2D())\n",
        "  model.add(Conv2D(128, kernel_size = 3, padding = 'same'))\n",
        "  model.add(BatchNormalization(momentum = 0.8))\n",
        "  model.add(Activation(\"relu\"))\n",
        "  \n",
        "  model.add(UpSampling2D())\n",
        "  model.add(Conv2D(64, kernel_size = 3, padding = \"same\"))\n",
        "  model.add(BatchNormalization(momentum = 0.8))\n",
        "  model.add(Activation(\"relu\"))\n",
        "  \n",
        "  model.add(Conv2D(imageChannels, kernel_size = 3, padding = \"same\"))\n",
        "  model.add(Activation(\"tanh\"))\n",
        "  \n",
        "  model.summary()\n",
        "  \n",
        "  randomNoise = Input(shape = (imageLatentDimension, ))\n",
        "  generatedImage = model(randomNoise)\n",
        "\n",
        "  return Model(inputs = randomNoise, outputs = generatedImage)"
      ],
      "execution_count": 0,
      "outputs": []
    },
    {
      "metadata": {
        "id": "citoosYO1c0R",
        "colab_type": "text"
      },
      "cell_type": "markdown",
      "source": [
        "**Discriminator Model**"
      ]
    },
    {
      "metadata": {
        "id": "_AVqFPHbzU3F",
        "colab_type": "code",
        "colab": {}
      },
      "cell_type": "code",
      "source": [
        "def discriminator():\n",
        "\n",
        "  model = Sequential()\n",
        "\n",
        "  model.add(Conv2D(32, kernel_size = 3, strides = 2, input_shape = imageShape, padding = \"same\"))\n",
        "  model.add(LeakyReLU(alpha = 0.2))\n",
        "  model.add(Dropout(0.25))\n",
        "  \n",
        "  model.add(Conv2D(64, kernel_size = 3, strides = 2, padding = \"same\"))\n",
        "  model.add(ZeroPadding2D(padding = ((0, 1), (0, 1))))\n",
        "  model.add(BatchNormalization(momentum = 0.8))\n",
        "  model.add(LeakyReLU(alpha = 0.2))\n",
        "  model.add(Dropout(0.25))\n",
        "  \n",
        "  model.add(Conv2D(128, kernel_size = 3, strides = 2, padding = \"same\"))\n",
        "  model.add(BatchNormalization(momentum = 0.8))\n",
        "  model.add(LeakyReLU(alpha = 0.2))\n",
        "  model.add(Dropout(0.25))\n",
        "  \n",
        "  model.add(Conv2D(256, kernel_size = 3, strides = 1, padding = \"same\"))\n",
        "  model.add(BatchNormalization(momentum = 0.8))\n",
        "  model.add(LeakyReLU(alpha = 0.2))\n",
        "  model.add(Dropout(0.25))\n",
        "  \n",
        "  model.add(Flatten())\n",
        "  model.add(Dense(1, activation = 'sigmoid'))\n",
        "\n",
        "  model.summary()\n",
        "\n",
        "  inputImage = Input(shape = imageShape)\n",
        "  validity = model(inputImage)\n",
        "\n",
        "  return Model(inputs = inputImage, outputs = validity)"
      ],
      "execution_count": 0,
      "outputs": []
    },
    {
      "metadata": {
        "id": "p-nDLvDT3Fwn",
        "colab_type": "text"
      },
      "cell_type": "markdown",
      "source": [
        "# Driver Code"
      ]
    },
    {
      "metadata": {
        "id": "imJSR1y-24vB",
        "colab_type": "code",
        "colab": {
          "base_uri": "https://localhost:8080/",
          "height": 1343
        },
        "outputId": "0967a864-225a-41dc-a3b3-32e324abffa8"
      },
      "cell_type": "code",
      "source": [
        "# Visualise Models\n",
        "print (\"Discriminator Model\")\n",
        "discriminatorModel = discriminator()\n",
        "\n",
        "print (\"\\n\\nGenerator Model\")\n",
        "generatorModel = generator()\n",
        "\n",
        "# Compile Discrimiator Model\n",
        "discriminatorModel.compile(optimizer = optimizer, loss = 'binary_crossentropy', metrics = ['accuracy'])\n",
        "\n",
        "# Generator Takes Random Noise As Input, Ergo Create Placeholder\n",
        "randomNoise = Input(shape=(imageLatentDimension, ))\n",
        "generatedImage = generatorModel(randomNoise)\n",
        "\n",
        "# For The Final Combined Model, Train Only Generator\n",
        "discriminatorModel.trainable = False\n",
        "\n",
        "# Discriminator Takes Generated Images And Computes Validity\n",
        "validity = discriminatorModel(generatedImage)\n",
        "\n",
        "# Combined Model\n",
        "combinedModel = Model(inputs = randomNoise, outputs = validity)\n",
        "combinedModel.compile(optimizer = optimizer, loss = 'binary_crossentropy')"
      ],
      "execution_count": 47,
      "outputs": [
        {
          "output_type": "stream",
          "text": [
            "Discriminator Model\n",
            "_________________________________________________________________\n",
            "Layer (type)                 Output Shape              Param #   \n",
            "=================================================================\n",
            "conv2d_64 (Conv2D)           (None, 14, 14, 32)        320       \n",
            "_________________________________________________________________\n",
            "leaky_re_lu_41 (LeakyReLU)   (None, 14, 14, 32)        0         \n",
            "_________________________________________________________________\n",
            "dropout_41 (Dropout)         (None, 14, 14, 32)        0         \n",
            "_________________________________________________________________\n",
            "conv2d_65 (Conv2D)           (None, 7, 7, 64)          18496     \n",
            "_________________________________________________________________\n",
            "zero_padding2d_11 (ZeroPaddi (None, 8, 8, 64)          0         \n",
            "_________________________________________________________________\n",
            "batch_normalization_47 (Batc (None, 8, 8, 64)          256       \n",
            "_________________________________________________________________\n",
            "leaky_re_lu_42 (LeakyReLU)   (None, 8, 8, 64)          0         \n",
            "_________________________________________________________________\n",
            "dropout_42 (Dropout)         (None, 8, 8, 64)          0         \n",
            "_________________________________________________________________\n",
            "conv2d_66 (Conv2D)           (None, 4, 4, 128)         73856     \n",
            "_________________________________________________________________\n",
            "batch_normalization_48 (Batc (None, 4, 4, 128)         512       \n",
            "_________________________________________________________________\n",
            "leaky_re_lu_43 (LeakyReLU)   (None, 4, 4, 128)         0         \n",
            "_________________________________________________________________\n",
            "dropout_43 (Dropout)         (None, 4, 4, 128)         0         \n",
            "_________________________________________________________________\n",
            "conv2d_67 (Conv2D)           (None, 4, 4, 256)         295168    \n",
            "_________________________________________________________________\n",
            "batch_normalization_49 (Batc (None, 4, 4, 256)         1024      \n",
            "_________________________________________________________________\n",
            "leaky_re_lu_44 (LeakyReLU)   (None, 4, 4, 256)         0         \n",
            "_________________________________________________________________\n",
            "dropout_44 (Dropout)         (None, 4, 4, 256)         0         \n",
            "_________________________________________________________________\n",
            "flatten_11 (Flatten)         (None, 4096)              0         \n",
            "_________________________________________________________________\n",
            "dense_20 (Dense)             (None, 1)                 4097      \n",
            "=================================================================\n",
            "Total params: 393,729\n",
            "Trainable params: 392,833\n",
            "Non-trainable params: 896\n",
            "_________________________________________________________________\n",
            "\n",
            "\n",
            "Generator Model\n",
            "_________________________________________________________________\n",
            "Layer (type)                 Output Shape              Param #   \n",
            "=================================================================\n",
            "dense_21 (Dense)             (None, 6272)              633472    \n",
            "_________________________________________________________________\n",
            "reshape_9 (Reshape)          (None, 7, 7, 128)         0         \n",
            "_________________________________________________________________\n",
            "up_sampling2d_17 (UpSampling (None, 14, 14, 128)       0         \n",
            "_________________________________________________________________\n",
            "conv2d_68 (Conv2D)           (None, 14, 14, 128)       147584    \n",
            "_________________________________________________________________\n",
            "batch_normalization_50 (Batc (None, 14, 14, 128)       512       \n",
            "_________________________________________________________________\n",
            "activation_24 (Activation)   (None, 14, 14, 128)       0         \n",
            "_________________________________________________________________\n",
            "up_sampling2d_18 (UpSampling (None, 28, 28, 128)       0         \n",
            "_________________________________________________________________\n",
            "conv2d_69 (Conv2D)           (None, 28, 28, 64)        73792     \n",
            "_________________________________________________________________\n",
            "batch_normalization_51 (Batc (None, 28, 28, 64)        256       \n",
            "_________________________________________________________________\n",
            "activation_25 (Activation)   (None, 28, 28, 64)        0         \n",
            "_________________________________________________________________\n",
            "conv2d_70 (Conv2D)           (None, 28, 28, 1)         577       \n",
            "_________________________________________________________________\n",
            "activation_26 (Activation)   (None, 28, 28, 1)         0         \n",
            "=================================================================\n",
            "Total params: 856,193\n",
            "Trainable params: 855,809\n",
            "Non-trainable params: 384\n",
            "_________________________________________________________________\n"
          ],
          "name": "stdout"
        }
      ]
    },
    {
      "metadata": {
        "id": "hA4Ln2f49RVT",
        "colab_type": "text"
      },
      "cell_type": "markdown",
      "source": [
        "# Train "
      ]
    },
    {
      "metadata": {
        "id": "IBi0upt-3PAX",
        "colab_type": "code",
        "colab": {}
      },
      "cell_type": "code",
      "source": [
        "def train(epochs, batchSize = 128, saveInterval = 50):\n",
        "\n",
        "  # Shape : (60000, 28, 28) \n",
        "  (X_train, _), (_, _) = mnist.load_data()\n",
        "\n",
        "  # Rescale -1 To 1\n",
        "  X_train = X_train / 127.5 - 1.\n",
        "  \n",
        "  # Expand Final Dimension To Include Channel (Shape Is Now (60000, 28, 28, 1))\n",
        "  X_train = np.expand_dims(X_train, axis = 3)\n",
        "  \n",
        "  # Ground Truths For Adversarial Network\n",
        "  real = np.ones((batchSize, 1))\n",
        "  fake = np.zeros((batchSize, 1))\n",
        "  \n",
        "  for epoch in range(epochs):\n",
        "    \n",
        "      # ----------------------------------\n",
        "\n",
        "      #         Train Discriminator\n",
        "\n",
        "      # ----------------------------------\n",
        "    \n",
        "      # Select Random Batch Of Images\n",
        "      imageIndices = np.random.randint(0, X_train.shape[0], batchSize)\n",
        "      imagesToTrain = X_train[imageIndices]\n",
        "\n",
        "      # Sample Noise And Generate Images\n",
        "      randomNoise = np.random.normal(0, 1, (batchSize, imageLatentDimension))\n",
        "      generatedImages = generatorModel.predict(randomNoise)\n",
        "      \n",
        "      # Train Discriminator By Classifying Real As 1's and Generated As 0's\n",
        "      discriminatorLossReal = discriminatorModel.train_on_batch(imagesToTrain, real)\n",
        "      discriminatorLossFake = discriminatorModel.train_on_batch(generatedImages, fake)\n",
        "      discriminatorLoss = 0.5 * np.add(discriminatorLossReal, discriminatorLossFake)\n",
        "    \n",
        "      # ----------------------------------\n",
        "\n",
        "      #         Train Generator\n",
        "\n",
        "      # ----------------------------------\n",
        "\n",
        "    \n",
        "      generatorLoss = combinedModel.train_on_batch(randomNoise, real)\n",
        "      \n",
        "      # Print Progress\n",
        "      print (\"%d [D Loss: %f, Accuracy: %.2f%%] [G Loss: %f]\" % (epoch, discriminatorLoss[0], 100 * discriminatorLoss[1], generatorLoss))\n",
        "  \n",
        "      # Save Images\n",
        "      if epoch % saveInterval == 0:\n",
        "\n",
        "        saveImages(epoch)\n",
        "  \n"
      ],
      "execution_count": 0,
      "outputs": []
    },
    {
      "metadata": {
        "id": "DdmTUMr4EHWh",
        "colab_type": "code",
        "colab": {}
      },
      "cell_type": "code",
      "source": [
        "def saveImages(epoch):\n",
        "       \n",
        "        r, c = 5, 5\n",
        "        randomNoise = np.random.normal(0, 1, (r * c, imageLatentDimension))\n",
        "        generatedImages = generatorModel.predict(randomNoise)\n",
        "\n",
        "        # Rescale Images From 0 - 1\n",
        "        generatedImages = 0.5 * generatedImages + 0.5\n",
        "\n",
        "        fig, axs = plt.subplots(r, c)\n",
        "        cnt = 0\n",
        "        for i in range(r):\n",
        "            for j in range(c):\n",
        "                axs[i, j].imshow(generatedImages[cnt, :, :, 0], cmap = 'gray')\n",
        "                axs[i, j].axis('off')\n",
        "                cnt += 1\n",
        "        fig.savefig(\"mnist_%d.png\" % epoch)\n",
        "        plt.close()\n"
      ],
      "execution_count": 0,
      "outputs": []
    },
    {
      "metadata": {
        "id": "bbesqcdZ66Xe",
        "colab_type": "code",
        "colab": {
          "base_uri": "https://localhost:8080/",
          "height": 1958
        },
        "outputId": "dab892e0-bcff-4f19-901c-63072545aaa1"
      },
      "cell_type": "code",
      "source": [
        "train(epochs = 4000, batchSize = 32, saveInterval = 500)"
      ],
      "execution_count": 0,
      "outputs": [
        {
          "output_type": "stream",
          "text": [
            "/usr/local/lib/python3.6/dist-packages/keras/engine/training.py:975: UserWarning: Discrepancy between trainable weights and collected trainable weights, did you set `model.trainable` without calling `model.compile` after ?\n",
            "  'Discrepancy between trainable weights and collected trainable'\n"
          ],
          "name": "stderr"
        },
        {
          "output_type": "stream",
          "text": [
            "0 [D Loss: 0.755006, Accuracy: 45.31%] [G Loss: 1.044996]\n",
            "1 [D Loss: 0.806790, Accuracy: 46.88%] [G Loss: 1.024639]\n",
            "2 [D Loss: 0.675313, Accuracy: 64.06%] [G Loss: 0.998591]\n",
            "3 [D Loss: 0.710563, Accuracy: 56.25%] [G Loss: 1.077123]\n",
            "4 [D Loss: 0.647560, Accuracy: 59.38%] [G Loss: 0.917193]\n",
            "5 [D Loss: 0.639792, Accuracy: 59.38%] [G Loss: 1.032955]\n",
            "6 [D Loss: 0.694599, Accuracy: 56.25%] [G Loss: 1.134694]\n",
            "7 [D Loss: 0.741457, Accuracy: 46.88%] [G Loss: 1.086693]\n",
            "8 [D Loss: 0.712962, Accuracy: 56.25%] [G Loss: 1.204743]\n",
            "9 [D Loss: 0.730470, Accuracy: 48.44%] [G Loss: 1.093904]\n",
            "10 [D Loss: 0.810671, Accuracy: 39.06%] [G Loss: 0.973493]\n",
            "11 [D Loss: 0.797530, Accuracy: 45.31%] [G Loss: 0.914425]\n",
            "12 [D Loss: 0.683043, Accuracy: 64.06%] [G Loss: 1.024422]\n",
            "13 [D Loss: 0.816912, Accuracy: 32.81%] [G Loss: 0.959739]\n",
            "14 [D Loss: 0.697374, Accuracy: 53.12%] [G Loss: 0.972126]\n",
            "15 [D Loss: 0.692412, Accuracy: 60.94%] [G Loss: 1.084098]\n",
            "16 [D Loss: 0.722442, Accuracy: 56.25%] [G Loss: 0.858950]\n",
            "17 [D Loss: 0.787957, Accuracy: 39.06%] [G Loss: 0.926420]\n",
            "18 [D Loss: 0.814149, Accuracy: 50.00%] [G Loss: 0.918506]\n",
            "19 [D Loss: 0.774167, Accuracy: 51.56%] [G Loss: 0.907825]\n",
            "20 [D Loss: 0.746978, Accuracy: 50.00%] [G Loss: 0.949097]\n",
            "21 [D Loss: 0.715845, Accuracy: 57.81%] [G Loss: 0.902456]\n",
            "22 [D Loss: 0.744244, Accuracy: 46.88%] [G Loss: 0.885569]\n",
            "23 [D Loss: 0.731707, Accuracy: 56.25%] [G Loss: 0.992878]\n",
            "24 [D Loss: 0.628796, Accuracy: 68.75%] [G Loss: 1.142033]\n",
            "25 [D Loss: 0.685886, Accuracy: 67.19%] [G Loss: 1.067051]\n",
            "26 [D Loss: 0.628746, Accuracy: 64.06%] [G Loss: 0.941485]\n",
            "27 [D Loss: 0.726264, Accuracy: 56.25%] [G Loss: 0.943080]\n",
            "28 [D Loss: 0.676448, Accuracy: 60.94%] [G Loss: 1.017731]\n",
            "29 [D Loss: 0.632202, Accuracy: 73.44%] [G Loss: 1.075444]\n",
            "30 [D Loss: 0.731020, Accuracy: 54.69%] [G Loss: 1.062681]\n",
            "31 [D Loss: 0.725634, Accuracy: 57.81%] [G Loss: 0.906458]\n",
            "32 [D Loss: 0.757823, Accuracy: 46.88%] [G Loss: 0.974133]\n",
            "33 [D Loss: 0.751275, Accuracy: 51.56%] [G Loss: 0.924482]\n",
            "34 [D Loss: 0.753917, Accuracy: 48.44%] [G Loss: 0.949656]\n",
            "35 [D Loss: 0.682719, Accuracy: 51.56%] [G Loss: 0.977067]\n",
            "36 [D Loss: 0.739783, Accuracy: 48.44%] [G Loss: 1.069562]\n",
            "37 [D Loss: 0.720454, Accuracy: 60.94%] [G Loss: 1.168012]\n",
            "38 [D Loss: 0.704847, Accuracy: 57.81%] [G Loss: 1.011403]\n",
            "39 [D Loss: 0.665555, Accuracy: 56.25%] [G Loss: 0.916696]\n",
            "40 [D Loss: 0.757100, Accuracy: 51.56%] [G Loss: 0.889238]\n",
            "41 [D Loss: 0.623390, Accuracy: 67.19%] [G Loss: 1.020049]\n",
            "42 [D Loss: 0.688163, Accuracy: 56.25%] [G Loss: 1.036035]\n",
            "43 [D Loss: 0.728953, Accuracy: 53.12%] [G Loss: 1.193073]\n",
            "44 [D Loss: 0.799058, Accuracy: 46.88%] [G Loss: 0.845485]\n",
            "45 [D Loss: 0.695544, Accuracy: 59.38%] [G Loss: 1.021199]\n",
            "46 [D Loss: 0.757285, Accuracy: 53.12%] [G Loss: 0.918951]\n",
            "47 [D Loss: 0.810289, Accuracy: 48.44%] [G Loss: 0.888455]\n",
            "48 [D Loss: 0.703981, Accuracy: 56.25%] [G Loss: 1.004273]\n",
            "49 [D Loss: 0.737405, Accuracy: 56.25%] [G Loss: 1.037771]\n",
            "50 [D Loss: 0.767737, Accuracy: 43.75%] [G Loss: 1.052482]\n",
            "51 [D Loss: 0.709689, Accuracy: 53.12%] [G Loss: 0.965537]\n",
            "52 [D Loss: 0.669248, Accuracy: 60.94%] [G Loss: 1.030348]\n",
            "53 [D Loss: 0.734167, Accuracy: 51.56%] [G Loss: 0.830468]\n",
            "54 [D Loss: 0.778000, Accuracy: 46.88%] [G Loss: 0.936181]\n",
            "55 [D Loss: 0.698950, Accuracy: 57.81%] [G Loss: 0.950156]\n",
            "56 [D Loss: 0.709579, Accuracy: 57.81%] [G Loss: 1.038723]\n",
            "57 [D Loss: 0.739984, Accuracy: 45.31%] [G Loss: 1.131434]\n",
            "58 [D Loss: 0.723835, Accuracy: 51.56%] [G Loss: 0.908042]\n",
            "59 [D Loss: 0.789049, Accuracy: 48.44%] [G Loss: 0.821661]\n",
            "60 [D Loss: 0.684565, Accuracy: 56.25%] [G Loss: 0.998088]\n",
            "61 [D Loss: 0.741664, Accuracy: 50.00%] [G Loss: 0.963307]\n",
            "62 [D Loss: 0.726959, Accuracy: 54.69%] [G Loss: 0.898203]\n",
            "63 [D Loss: 0.731562, Accuracy: 59.38%] [G Loss: 0.881982]\n",
            "64 [D Loss: 0.734665, Accuracy: 53.12%] [G Loss: 0.963050]\n",
            "65 [D Loss: 0.709428, Accuracy: 56.25%] [G Loss: 0.959551]\n",
            "66 [D Loss: 0.787506, Accuracy: 42.19%] [G Loss: 1.107763]\n",
            "67 [D Loss: 0.766279, Accuracy: 39.06%] [G Loss: 1.023543]\n",
            "68 [D Loss: 0.824542, Accuracy: 32.81%] [G Loss: 0.884413]\n",
            "69 [D Loss: 0.592719, Accuracy: 68.75%] [G Loss: 1.170919]\n",
            "70 [D Loss: 0.751390, Accuracy: 56.25%] [G Loss: 0.932130]\n",
            "71 [D Loss: 0.690356, Accuracy: 56.25%] [G Loss: 0.756432]\n",
            "72 [D Loss: 0.696945, Accuracy: 53.12%] [G Loss: 1.018500]\n",
            "73 [D Loss: 0.689968, Accuracy: 50.00%] [G Loss: 0.982127]\n",
            "74 [D Loss: 0.716903, Accuracy: 53.12%] [G Loss: 0.994959]\n",
            "75 [D Loss: 0.700156, Accuracy: 54.69%] [G Loss: 1.187622]\n",
            "76 [D Loss: 0.821465, Accuracy: 46.88%] [G Loss: 1.018382]\n",
            "77 [D Loss: 0.702406, Accuracy: 57.81%] [G Loss: 0.910245]\n",
            "78 [D Loss: 0.825920, Accuracy: 48.44%] [G Loss: 0.873399]\n",
            "79 [D Loss: 0.664395, Accuracy: 64.06%] [G Loss: 0.970002]\n",
            "80 [D Loss: 0.675816, Accuracy: 57.81%] [G Loss: 0.952712]\n",
            "81 [D Loss: 0.687214, Accuracy: 57.81%] [G Loss: 0.970482]\n",
            "82 [D Loss: 0.713396, Accuracy: 59.38%] [G Loss: 0.979454]\n",
            "83 [D Loss: 0.682407, Accuracy: 56.25%] [G Loss: 0.946301]\n",
            "84 [D Loss: 0.679488, Accuracy: 62.50%] [G Loss: 0.933376]\n",
            "85 [D Loss: 0.764475, Accuracy: 45.31%] [G Loss: 0.954681]\n",
            "86 [D Loss: 0.768627, Accuracy: 51.56%] [G Loss: 0.921684]\n",
            "87 [D Loss: 0.793150, Accuracy: 43.75%] [G Loss: 0.958052]\n",
            "88 [D Loss: 0.686387, Accuracy: 53.12%] [G Loss: 0.982767]\n",
            "89 [D Loss: 0.630910, Accuracy: 67.19%] [G Loss: 1.044390]\n",
            "90 [D Loss: 0.711043, Accuracy: 54.69%] [G Loss: 1.062692]\n",
            "91 [D Loss: 0.671269, Accuracy: 65.62%] [G Loss: 0.952413]\n",
            "92 [D Loss: 0.774071, Accuracy: 45.31%] [G Loss: 0.816594]\n",
            "93 [D Loss: 0.768045, Accuracy: 48.44%] [G Loss: 0.882922]\n",
            "94 [D Loss: 0.675196, Accuracy: 54.69%] [G Loss: 1.045164]\n",
            "95 [D Loss: 0.697071, Accuracy: 57.81%] [G Loss: 1.017568]\n",
            "96 [D Loss: 0.652154, Accuracy: 59.38%] [G Loss: 0.986608]\n",
            "97 [D Loss: 0.788275, Accuracy: 40.62%] [G Loss: 1.042588]\n",
            "98 [D Loss: 0.669376, Accuracy: 59.38%] [G Loss: 1.147286]\n",
            "99 [D Loss: 0.789696, Accuracy: 48.44%] [G Loss: 0.925056]\n",
            "100 [D Loss: 0.670666, Accuracy: 60.94%] [G Loss: 1.003317]\n",
            "101 [D Loss: 0.660203, Accuracy: 59.38%] [G Loss: 1.083024]\n",
            "102 [D Loss: 0.680235, Accuracy: 64.06%] [G Loss: 0.980880]\n",
            "103 [D Loss: 0.669726, Accuracy: 64.06%] [G Loss: 0.937583]\n",
            "104 [D Loss: 0.709935, Accuracy: 53.12%] [G Loss: 0.890129]\n",
            "105 [D Loss: 0.658354, Accuracy: 64.06%] [G Loss: 0.986592]\n",
            "106 [D Loss: 0.725598, Accuracy: 50.00%] [G Loss: 0.965541]\n",
            "107 [D Loss: 0.802352, Accuracy: 48.44%] [G Loss: 0.938884]\n",
            "108 [D Loss: 0.671251, Accuracy: 60.94%] [G Loss: 1.059264]\n",
            "109 [D Loss: 0.756724, Accuracy: 50.00%] [G Loss: 1.032788]\n",
            "110 [D Loss: 0.698989, Accuracy: 57.81%] [G Loss: 1.184735]\n"
          ],
          "name": "stdout"
        }
      ]
    },
    {
      "metadata": {
        "id": "05Q50UtP_NcW",
        "colab_type": "code",
        "colab": {}
      },
      "cell_type": "code",
      "source": [
        "for number in range(0, 4000, 100):\n",
        "  file = 'mnist_' + str(number) + '.png'\n",
        "  \n",
        "  try :\n",
        "    files.download(file)\n",
        "  except :\n",
        "    None\n",
        "    \n",
        "print (\"Images Downloaded To Local Drive\")"
      ],
      "execution_count": 0,
      "outputs": []
    },
    {
      "metadata": {
        "id": "JnuWZV6G7KR0",
        "colab_type": "code",
        "colab": {}
      },
      "cell_type": "code",
      "source": [
        ""
      ],
      "execution_count": 0,
      "outputs": []
    },
    {
      "metadata": {
        "id": "qN0OqqlXEwzK",
        "colab_type": "code",
        "colab": {}
      },
      "cell_type": "code",
      "source": [
        ""
      ],
      "execution_count": 0,
      "outputs": []
    }
  ]
}