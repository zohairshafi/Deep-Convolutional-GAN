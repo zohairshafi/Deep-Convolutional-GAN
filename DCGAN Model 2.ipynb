{
  "nbformat": 4,
  "nbformat_minor": 0,
  "metadata": {
    "colab": {
      "name": "DCGAN Model 2.ipynb",
      "version": "0.3.2",
      "provenance": []
    },
    "kernelspec": {
      "name": "python3",
      "display_name": "Python 3"
    },
    "accelerator": "TPU"
  },
  "cells": [
    {
      "metadata": {
        "id": "N7OmdFrYvX_4",
        "colab_type": "text"
      },
      "cell_type": "markdown",
      "source": [
        "# Import Packages"
      ]
    },
    {
      "metadata": {
        "id": "9gKbDFu2otWR",
        "colab_type": "code",
        "colab": {
          "base_uri": "https://localhost:8080/",
          "height": 34
        },
        "outputId": "2f90acb2-fb28-4799-c51e-c36248304219"
      },
      "cell_type": "code",
      "source": [
        "import keras\n",
        "from keras.datasets import mnist\n",
        "from keras.layers import Input, Dense, Reshape, Flatten, Dropout\n",
        "from keras.layers.advanced_activations import LeakyReLU\n",
        "from keras.layers.convolutional import UpSampling2D, Conv2D, Conv2DTranspose\n",
        "from keras.models import Sequential, Model\n",
        "from keras.layers import BatchNormalization, Activation, ZeroPadding2D\n",
        "from keras.optimizers import Adam\n",
        "\n",
        "import numpy as np\n",
        "\n",
        "import os\n",
        "import matplotlib.pyplot as plt\n",
        "\n",
        "from tqdm import tqdm\n",
        "from google.colab import files\n"
      ],
      "execution_count": 1,
      "outputs": [
        {
          "output_type": "stream",
          "text": [
            "Using TensorFlow backend.\n"
          ],
          "name": "stderr"
        }
      ]
    },
    {
      "metadata": {
        "id": "xbRrau2_veTC",
        "colab_type": "text"
      },
      "cell_type": "markdown",
      "source": [
        "# Model Variables"
      ]
    },
    {
      "metadata": {
        "id": "_DekFoKupFxr",
        "colab_type": "code",
        "colab": {}
      },
      "cell_type": "code",
      "source": [
        "imageRows = 28\n",
        "imageColumns = 28  \n",
        "imageChannels = 1\n",
        "\n",
        "imageShape = (imageRows, imageColumns, imageChannels)\n",
        "\n",
        "imageLatentDimension = 100\n",
        "\n",
        "optimizer = Adam(0.0002, 0.5)"
      ],
      "execution_count": 0,
      "outputs": []
    },
    {
      "metadata": {
        "id": "Qdw8Rgq9yVa8",
        "colab_type": "text"
      },
      "cell_type": "markdown",
      "source": [
        "# Models "
      ]
    },
    {
      "metadata": {
        "id": "ohx5aam3yXbY",
        "colab_type": "text"
      },
      "cell_type": "markdown",
      "source": [
        "**Generator Model**"
      ]
    },
    {
      "metadata": {
        "id": "ySjpPrWAyVBE",
        "colab_type": "code",
        "colab": {}
      },
      "cell_type": "code",
      "source": [
        "def generator():\n",
        "  \n",
        "  model = Sequential()\n",
        "  \n",
        "  model.add(Dense(128 * 7 * 7, activation = 'relu', input_dim = imageLatentDimension))\n",
        "  model.add(Reshape((7, 7, 128)))\n",
        "  \n",
        "  model.add(Conv2DTranspose(128, kernel_size = 3, strides = 2, padding = 'same'))\n",
        "  model.add(BatchNormalization(momentum = 0.8))\n",
        "  model.add(LeakyReLU(alpha = 0.01))\n",
        "  \n",
        "  model.add(Conv2DTranspose(64, kernel_size = 3, strides = 2, padding = 'same'))\n",
        "  model.add(BatchNormalization(momentum = 0.8))\n",
        "  model.add(LeakyReLU(alpha = 0.01))\n",
        "  \n",
        "  model.add(Conv2DTranspose(32, kernel_size = 3, padding = 'same'))\n",
        "  model.add(BatchNormalization(momentum = 0.8))\n",
        "  model.add(LeakyReLU(alpha = 0.01))\n",
        "  \n",
        "  model.add(Conv2D(imageChannels, kernel_size = 3, padding = \"same\"))\n",
        "  model.add(Activation(\"tanh\"))\n",
        "  \n",
        "  model.summary()\n",
        "  \n",
        "  randomNoise = Input(shape = (imageLatentDimension, ))\n",
        "  generatedImage = model(randomNoise)\n",
        "\n",
        "  return Model(inputs = randomNoise, outputs = generatedImage)"
      ],
      "execution_count": 0,
      "outputs": []
    },
    {
      "metadata": {
        "id": "citoosYO1c0R",
        "colab_type": "text"
      },
      "cell_type": "markdown",
      "source": [
        "**Discriminator Model**"
      ]
    },
    {
      "metadata": {
        "id": "_AVqFPHbzU3F",
        "colab_type": "code",
        "colab": {}
      },
      "cell_type": "code",
      "source": [
        "def discriminator():\n",
        "\n",
        "  model = Sequential()\n",
        "\n",
        "  model.add(Conv2D(32, kernel_size = 3, strides = 2, input_shape = imageShape, padding = \"same\"))\n",
        "  model.add(LeakyReLU(alpha = 0.2))\n",
        "  model.add(BatchNormalization(momentum = 0.8))\n",
        "\n",
        "  \n",
        "  model.add(Conv2D(64, kernel_size = 3, strides = 2, padding = \"same\"))\n",
        "  model.add(ZeroPadding2D(padding = ((0, 1), (0, 1))))\n",
        "  model.add(BatchNormalization(momentum = 0.8))\n",
        "  model.add(LeakyReLU(alpha = 0.2))\n",
        "  \n",
        "  model.add(Conv2D(128, kernel_size = 3, strides = 2, padding = \"same\"))\n",
        "  model.add(BatchNormalization(momentum = 0.8))\n",
        "  model.add(LeakyReLU(alpha = 0.2))\n",
        "  \n",
        "  model.add(Conv2D(256, kernel_size = 3, strides = 1, padding = \"same\"))\n",
        "  model.add(BatchNormalization(momentum = 0.8))\n",
        "  model.add(LeakyReLU(alpha = 0.2))\n",
        "  \n",
        "  model.add(Flatten())\n",
        "  model.add(Dense(1, activation = 'sigmoid'))\n",
        "\n",
        "  model.summary()\n",
        "\n",
        "  inputImage = Input(shape = imageShape)\n",
        "  validity = model(inputImage)\n",
        "\n",
        "  return Model(inputs = inputImage, outputs = validity)"
      ],
      "execution_count": 0,
      "outputs": []
    },
    {
      "metadata": {
        "id": "p-nDLvDT3Fwn",
        "colab_type": "text"
      },
      "cell_type": "markdown",
      "source": [
        "# Driver Code"
      ]
    },
    {
      "metadata": {
        "id": "imJSR1y-24vB",
        "colab_type": "code",
        "colab": {
          "base_uri": "https://localhost:8080/",
          "height": 1275
        },
        "outputId": "a8ce13fb-1b4b-41ce-96bd-1f19fa0842c1"
      },
      "cell_type": "code",
      "source": [
        "# Visualise Models\n",
        "print (\"Discriminator Model\")\n",
        "discriminatorModel = discriminator()\n",
        "\n",
        "print (\"\\n\\nGenerator Model\")\n",
        "generatorModel = generator()\n",
        "\n",
        "# Compile Discrimiator Model\n",
        "discriminatorModel.compile(optimizer = optimizer, loss = 'binary_crossentropy', metrics = ['accuracy'])\n",
        "\n",
        "# Generator Takes Random Noise As Input, Ergo Create Placeholder\n",
        "randomNoise = Input(shape=(imageLatentDimension, ))\n",
        "generatedImage = generatorModel(randomNoise)\n",
        "\n",
        "# For The Final Combined Model, Train Only Generator\n",
        "discriminatorModel.trainable = False\n",
        "\n",
        "# Discriminator Takes Generated Images And Computes Validity\n",
        "validity = discriminatorModel(generatedImage)\n",
        "\n",
        "# Combined Model\n",
        "combinedModel = Model(inputs = randomNoise, outputs = validity)\n",
        "combinedModel.compile(optimizer = optimizer, loss = 'binary_crossentropy')"
      ],
      "execution_count": 5,
      "outputs": [
        {
          "output_type": "stream",
          "text": [
            "Discriminator Model\n",
            "_________________________________________________________________\n",
            "Layer (type)                 Output Shape              Param #   \n",
            "=================================================================\n",
            "conv2d_1 (Conv2D)            (None, 14, 14, 32)        320       \n",
            "_________________________________________________________________\n",
            "leaky_re_lu_1 (LeakyReLU)    (None, 14, 14, 32)        0         \n",
            "_________________________________________________________________\n",
            "batch_normalization_1 (Batch (None, 14, 14, 32)        128       \n",
            "_________________________________________________________________\n",
            "conv2d_2 (Conv2D)            (None, 7, 7, 64)          18496     \n",
            "_________________________________________________________________\n",
            "zero_padding2d_1 (ZeroPaddin (None, 8, 8, 64)          0         \n",
            "_________________________________________________________________\n",
            "batch_normalization_2 (Batch (None, 8, 8, 64)          256       \n",
            "_________________________________________________________________\n",
            "leaky_re_lu_2 (LeakyReLU)    (None, 8, 8, 64)          0         \n",
            "_________________________________________________________________\n",
            "conv2d_3 (Conv2D)            (None, 4, 4, 128)         73856     \n",
            "_________________________________________________________________\n",
            "batch_normalization_3 (Batch (None, 4, 4, 128)         512       \n",
            "_________________________________________________________________\n",
            "leaky_re_lu_3 (LeakyReLU)    (None, 4, 4, 128)         0         \n",
            "_________________________________________________________________\n",
            "conv2d_4 (Conv2D)            (None, 4, 4, 256)         295168    \n",
            "_________________________________________________________________\n",
            "batch_normalization_4 (Batch (None, 4, 4, 256)         1024      \n",
            "_________________________________________________________________\n",
            "leaky_re_lu_4 (LeakyReLU)    (None, 4, 4, 256)         0         \n",
            "_________________________________________________________________\n",
            "flatten_1 (Flatten)          (None, 4096)              0         \n",
            "_________________________________________________________________\n",
            "dense_1 (Dense)              (None, 1)                 4097      \n",
            "=================================================================\n",
            "Total params: 393,857\n",
            "Trainable params: 392,897\n",
            "Non-trainable params: 960\n",
            "_________________________________________________________________\n",
            "\n",
            "\n",
            "Generator Model\n",
            "_________________________________________________________________\n",
            "Layer (type)                 Output Shape              Param #   \n",
            "=================================================================\n",
            "dense_2 (Dense)              (None, 6272)              633472    \n",
            "_________________________________________________________________\n",
            "reshape_1 (Reshape)          (None, 7, 7, 128)         0         \n",
            "_________________________________________________________________\n",
            "conv2d_transpose_1 (Conv2DTr (None, 14, 14, 128)       147584    \n",
            "_________________________________________________________________\n",
            "batch_normalization_5 (Batch (None, 14, 14, 128)       512       \n",
            "_________________________________________________________________\n",
            "leaky_re_lu_5 (LeakyReLU)    (None, 14, 14, 128)       0         \n",
            "_________________________________________________________________\n",
            "conv2d_transpose_2 (Conv2DTr (None, 28, 28, 64)        73792     \n",
            "_________________________________________________________________\n",
            "batch_normalization_6 (Batch (None, 28, 28, 64)        256       \n",
            "_________________________________________________________________\n",
            "leaky_re_lu_6 (LeakyReLU)    (None, 28, 28, 64)        0         \n",
            "_________________________________________________________________\n",
            "conv2d_transpose_3 (Conv2DTr (None, 28, 28, 32)        18464     \n",
            "_________________________________________________________________\n",
            "batch_normalization_7 (Batch (None, 28, 28, 32)        128       \n",
            "_________________________________________________________________\n",
            "leaky_re_lu_7 (LeakyReLU)    (None, 28, 28, 32)        0         \n",
            "_________________________________________________________________\n",
            "conv2d_5 (Conv2D)            (None, 28, 28, 1)         289       \n",
            "_________________________________________________________________\n",
            "activation_1 (Activation)    (None, 28, 28, 1)         0         \n",
            "=================================================================\n",
            "Total params: 874,497\n",
            "Trainable params: 874,049\n",
            "Non-trainable params: 448\n",
            "_________________________________________________________________\n"
          ],
          "name": "stdout"
        }
      ]
    },
    {
      "metadata": {
        "id": "hA4Ln2f49RVT",
        "colab_type": "text"
      },
      "cell_type": "markdown",
      "source": [
        "# Train "
      ]
    },
    {
      "metadata": {
        "id": "IBi0upt-3PAX",
        "colab_type": "code",
        "colab": {}
      },
      "cell_type": "code",
      "source": [
        "def train(epochs, batchSize = 128, saveInterval = 50):\n",
        "\n",
        "  # Shape : (60000, 28, 28) \n",
        "  (X_train, _), (_, _) = mnist.load_data()\n",
        "\n",
        "  # Rescale -1 To 1\n",
        "  X_train = X_train / 127.5 - 1.\n",
        "  \n",
        "  # Expand Final Dimension To Include Channel (Shape Is Now (60000, 28, 28, 1))\n",
        "  X_train = np.expand_dims(X_train, axis = 3)\n",
        "  \n",
        "  # Ground Truths For Adversarial Network\n",
        "  real = np.ones((batchSize, 1))\n",
        "  fake = np.zeros((batchSize, 1))\n",
        "  \n",
        "  for epoch in tqdm(range(epochs)):\n",
        "    \n",
        "      # ----------------------------------\n",
        "\n",
        "      #         Train Discriminator\n",
        "\n",
        "      # ----------------------------------\n",
        "    \n",
        "      # Select Random Batch Of Images\n",
        "      imageIndices = np.random.randint(0, X_train.shape[0], batchSize)\n",
        "      imagesToTrain = X_train[imageIndices]\n",
        "\n",
        "      # Sample Noise And Generate Images\n",
        "      randomNoise = np.random.normal(0, 1, (batchSize, imageLatentDimension))\n",
        "      generatedImages = generatorModel.predict(randomNoise)\n",
        "      \n",
        "      # Train Discriminator By Classifying Real As 1's and Generated As 0's\n",
        "      discriminatorLossReal = discriminatorModel.train_on_batch(imagesToTrain, real)\n",
        "      discriminatorLossFake = discriminatorModel.train_on_batch(generatedImages, fake)\n",
        "      discriminatorLoss = 0.5 * np.add(discriminatorLossReal, discriminatorLossFake)\n",
        "    \n",
        "      # ----------------------------------\n",
        "\n",
        "      #         Train Generator\n",
        "\n",
        "      # ----------------------------------\n",
        "\n",
        "    \n",
        "      generatorLoss = combinedModel.train_on_batch(randomNoise, real)\n",
        "      \n",
        "      # Print Progress\n",
        "      print (\"%d [D Loss: %f, Accuracy: %.2f%%] [G Loss: %f]\" % (epoch, discriminatorLoss[0], 100 * discriminatorLoss[1], generatorLoss))\n",
        "  \n",
        "      # Save Images\n",
        "      if epoch % saveInterval == 0:\n",
        "\n",
        "        saveImages(epoch)\n",
        "  \n"
      ],
      "execution_count": 0,
      "outputs": []
    },
    {
      "metadata": {
        "id": "DdmTUMr4EHWh",
        "colab_type": "code",
        "colab": {}
      },
      "cell_type": "code",
      "source": [
        "def saveImages(epoch):\n",
        "       \n",
        "        r, c = 5, 5\n",
        "        randomNoise = np.random.normal(0, 1, (r * c, imageLatentDimension))\n",
        "        generatedImages = generatorModel.predict(randomNoise)\n",
        "\n",
        "        # Rescale Images From 0 - 1\n",
        "        generatedImages = 0.5 * generatedImages + 0.5\n",
        "\n",
        "        fig, axs = plt.subplots(r, c)\n",
        "        cnt = 0\n",
        "        for i in range(r):\n",
        "            for j in range(c):\n",
        "                axs[i, j].imshow(generatedImages[cnt, :, :, 0], cmap = 'gray')\n",
        "                axs[i, j].axis('off')\n",
        "                cnt += 1\n",
        "        fig.savefig(\"mnist_model%d.png\" % epoch)\n",
        "        plt.close()\n"
      ],
      "execution_count": 0,
      "outputs": []
    },
    {
      "metadata": {
        "id": "bbesqcdZ66Xe",
        "colab_type": "code",
        "colab": {
          "base_uri": "https://localhost:8080/",
          "height": 1856
        },
        "outputId": "745509ae-5d59-48ed-eba4-9c4ce4ceb925"
      },
      "cell_type": "code",
      "source": [
        "train(epochs = 2000, batchSize = 32, saveInterval = 500)"
      ],
      "execution_count": 0,
      "outputs": [
        {
          "output_type": "stream",
          "text": [
            "Downloading data from https://s3.amazonaws.com/img-datasets/mnist.npz\n",
            "11493376/11490434 [==============================] - 1s 0us/step\n"
          ],
          "name": "stdout"
        },
        {
          "output_type": "stream",
          "text": [
            "\r  0%|          | 0/2000 [00:00<?, ?it/s]/usr/local/lib/python3.6/dist-packages/keras/engine/training.py:975: UserWarning: Discrepancy between trainable weights and collected trainable weights, did you set `model.trainable` without calling `model.compile` after ?\n",
            "  'Discrepancy between trainable weights and collected trainable'\n"
          ],
          "name": "stderr"
        },
        {
          "output_type": "stream",
          "text": [
            "0 [D Loss: 1.277752, Accuracy: 25.00%] [G Loss: 0.731562]\n"
          ],
          "name": "stdout"
        },
        {
          "output_type": "stream",
          "text": [
            "  0%|          | 2/2000 [00:06<2:30:47,  4.53s/it]"
          ],
          "name": "stderr"
        },
        {
          "output_type": "stream",
          "text": [
            "1 [D Loss: 0.418644, Accuracy: 78.12%] [G Loss: 1.812042]\n"
          ],
          "name": "stdout"
        },
        {
          "output_type": "stream",
          "text": [
            "\r  0%|          | 3/2000 [00:07<1:53:29,  3.41s/it]"
          ],
          "name": "stderr"
        },
        {
          "output_type": "stream",
          "text": [
            "2 [D Loss: 0.248241, Accuracy: 93.75%] [G Loss: 2.379113]\n"
          ],
          "name": "stdout"
        },
        {
          "output_type": "stream",
          "text": [
            "\r  0%|          | 4/2000 [00:08<1:27:25,  2.63s/it]"
          ],
          "name": "stderr"
        },
        {
          "output_type": "stream",
          "text": [
            "3 [D Loss: 0.352717, Accuracy: 82.81%] [G Loss: 2.272391]\n"
          ],
          "name": "stdout"
        },
        {
          "output_type": "stream",
          "text": [
            "\r  0%|          | 5/2000 [00:09<1:09:11,  2.08s/it]"
          ],
          "name": "stderr"
        },
        {
          "output_type": "stream",
          "text": [
            "4 [D Loss: 0.244843, Accuracy: 92.19%] [G Loss: 2.763417]\n"
          ],
          "name": "stdout"
        },
        {
          "output_type": "stream",
          "text": [
            "\r  0%|          | 6/2000 [00:10<56:21,  1.70s/it]  "
          ],
          "name": "stderr"
        },
        {
          "output_type": "stream",
          "text": [
            "5 [D Loss: 0.213135, Accuracy: 95.31%] [G Loss: 3.006730]\n"
          ],
          "name": "stdout"
        },
        {
          "output_type": "stream",
          "text": [
            "\r  0%|          | 7/2000 [00:10<47:21,  1.43s/it]"
          ],
          "name": "stderr"
        },
        {
          "output_type": "stream",
          "text": [
            "6 [D Loss: 0.136240, Accuracy: 98.44%] [G Loss: 3.190327]\n"
          ],
          "name": "stdout"
        },
        {
          "output_type": "stream",
          "text": [
            "\r  0%|          | 8/2000 [00:11<41:07,  1.24s/it]"
          ],
          "name": "stderr"
        },
        {
          "output_type": "stream",
          "text": [
            "7 [D Loss: 0.138894, Accuracy: 96.88%] [G Loss: 2.783160]\n"
          ],
          "name": "stdout"
        },
        {
          "output_type": "stream",
          "text": [
            "\r  0%|          | 9/2000 [00:12<36:47,  1.11s/it]"
          ],
          "name": "stderr"
        },
        {
          "output_type": "stream",
          "text": [
            "8 [D Loss: 0.148642, Accuracy: 100.00%] [G Loss: 3.389713]\n"
          ],
          "name": "stdout"
        },
        {
          "output_type": "stream",
          "text": [
            "\r  0%|          | 10/2000 [00:13<33:43,  1.02s/it]"
          ],
          "name": "stderr"
        },
        {
          "output_type": "stream",
          "text": [
            "9 [D Loss: 0.071115, Accuracy: 98.44%] [G Loss: 4.089895]\n"
          ],
          "name": "stdout"
        },
        {
          "output_type": "stream",
          "text": [
            "\r  1%|          | 11/2000 [00:14<31:39,  1.05it/s]"
          ],
          "name": "stderr"
        },
        {
          "output_type": "stream",
          "text": [
            "10 [D Loss: 0.061629, Accuracy: 100.00%] [G Loss: 3.879480]\n"
          ],
          "name": "stdout"
        },
        {
          "output_type": "stream",
          "text": [
            "\r  1%|          | 12/2000 [00:14<30:11,  1.10it/s]"
          ],
          "name": "stderr"
        },
        {
          "output_type": "stream",
          "text": [
            "11 [D Loss: 0.124678, Accuracy: 100.00%] [G Loss: 3.555175]\n"
          ],
          "name": "stdout"
        },
        {
          "output_type": "stream",
          "text": [
            "\r  1%|          | 13/2000 [00:15<29:16,  1.13it/s]"
          ],
          "name": "stderr"
        },
        {
          "output_type": "stream",
          "text": [
            "12 [D Loss: 0.154197, Accuracy: 98.44%] [G Loss: 3.922379]\n"
          ],
          "name": "stdout"
        },
        {
          "output_type": "stream",
          "text": [
            "\r  1%|          | 14/2000 [00:16<28:27,  1.16it/s]"
          ],
          "name": "stderr"
        },
        {
          "output_type": "stream",
          "text": [
            "13 [D Loss: 0.115630, Accuracy: 98.44%] [G Loss: 3.800743]\n"
          ],
          "name": "stdout"
        },
        {
          "output_type": "stream",
          "text": [
            "\r  1%|          | 15/2000 [00:17<27:53,  1.19it/s]"
          ],
          "name": "stderr"
        },
        {
          "output_type": "stream",
          "text": [
            "14 [D Loss: 0.154675, Accuracy: 96.88%] [G Loss: 3.616951]\n"
          ],
          "name": "stdout"
        },
        {
          "output_type": "stream",
          "text": [
            "\r  1%|          | 16/2000 [00:18<27:32,  1.20it/s]"
          ],
          "name": "stderr"
        },
        {
          "output_type": "stream",
          "text": [
            "15 [D Loss: 0.067021, Accuracy: 100.00%] [G Loss: 3.910872]\n"
          ],
          "name": "stdout"
        },
        {
          "output_type": "stream",
          "text": [
            "\r  1%|          | 17/2000 [00:18<27:14,  1.21it/s]"
          ],
          "name": "stderr"
        },
        {
          "output_type": "stream",
          "text": [
            "16 [D Loss: 0.063696, Accuracy: 100.00%] [G Loss: 4.101341]\n"
          ],
          "name": "stdout"
        },
        {
          "output_type": "stream",
          "text": [
            "\r  1%|          | 18/2000 [00:19<27:09,  1.22it/s]"
          ],
          "name": "stderr"
        },
        {
          "output_type": "stream",
          "text": [
            "17 [D Loss: 0.039301, Accuracy: 100.00%] [G Loss: 4.319144]\n"
          ],
          "name": "stdout"
        },
        {
          "output_type": "stream",
          "text": [
            "\r  1%|          | 19/2000 [00:20<26:59,  1.22it/s]"
          ],
          "name": "stderr"
        },
        {
          "output_type": "stream",
          "text": [
            "18 [D Loss: 0.064966, Accuracy: 98.44%] [G Loss: 4.457813]\n"
          ],
          "name": "stdout"
        },
        {
          "output_type": "stream",
          "text": [
            "\r  1%|          | 20/2000 [00:21<26:50,  1.23it/s]"
          ],
          "name": "stderr"
        },
        {
          "output_type": "stream",
          "text": [
            "19 [D Loss: 0.073381, Accuracy: 98.44%] [G Loss: 4.682442]\n"
          ],
          "name": "stdout"
        },
        {
          "output_type": "stream",
          "text": [
            "\r  1%|          | 21/2000 [00:22<27:00,  1.22it/s]"
          ],
          "name": "stderr"
        },
        {
          "output_type": "stream",
          "text": [
            "20 [D Loss: 0.016934, Accuracy: 100.00%] [G Loss: 5.063373]\n"
          ],
          "name": "stdout"
        },
        {
          "output_type": "stream",
          "text": [
            "\r  1%|          | 22/2000 [00:23<26:54,  1.23it/s]"
          ],
          "name": "stderr"
        },
        {
          "output_type": "stream",
          "text": [
            "21 [D Loss: 0.034673, Accuracy: 100.00%] [G Loss: 4.478322]\n"
          ],
          "name": "stdout"
        },
        {
          "output_type": "stream",
          "text": [
            "\r  1%|          | 23/2000 [00:23<26:59,  1.22it/s]"
          ],
          "name": "stderr"
        },
        {
          "output_type": "stream",
          "text": [
            "22 [D Loss: 0.052128, Accuracy: 100.00%] [G Loss: 4.077394]\n"
          ],
          "name": "stdout"
        },
        {
          "output_type": "stream",
          "text": [
            "\r  1%|          | 24/2000 [00:24<26:54,  1.22it/s]"
          ],
          "name": "stderr"
        },
        {
          "output_type": "stream",
          "text": [
            "23 [D Loss: 0.069797, Accuracy: 98.44%] [G Loss: 4.099983]\n"
          ],
          "name": "stdout"
        },
        {
          "output_type": "stream",
          "text": [
            "\r  1%|▏         | 25/2000 [00:25<28:35,  1.15it/s]"
          ],
          "name": "stderr"
        },
        {
          "output_type": "stream",
          "text": [
            "24 [D Loss: 0.052844, Accuracy: 100.00%] [G Loss: 4.907014]\n"
          ],
          "name": "stdout"
        },
        {
          "output_type": "stream",
          "text": [
            "\r  1%|▏         | 26/2000 [00:26<31:44,  1.04it/s]"
          ],
          "name": "stderr"
        },
        {
          "output_type": "stream",
          "text": [
            "25 [D Loss: 0.028626, Accuracy: 100.00%] [G Loss: 5.088577]\n"
          ],
          "name": "stdout"
        },
        {
          "output_type": "stream",
          "text": [
            "\r  1%|▏         | 27/2000 [00:27<31:26,  1.05it/s]"
          ],
          "name": "stderr"
        },
        {
          "output_type": "stream",
          "text": [
            "26 [D Loss: 0.053264, Accuracy: 100.00%] [G Loss: 4.805040]\n"
          ],
          "name": "stdout"
        },
        {
          "output_type": "stream",
          "text": [
            "\r  1%|▏         | 28/2000 [00:28<29:58,  1.10it/s]"
          ],
          "name": "stderr"
        },
        {
          "output_type": "stream",
          "text": [
            "27 [D Loss: 0.043623, Accuracy: 100.00%] [G Loss: 4.603328]\n"
          ],
          "name": "stdout"
        },
        {
          "output_type": "stream",
          "text": [
            "\r  1%|▏         | 29/2000 [00:29<29:09,  1.13it/s]"
          ],
          "name": "stderr"
        },
        {
          "output_type": "stream",
          "text": [
            "28 [D Loss: 0.200840, Accuracy: 93.75%] [G Loss: 5.665073]\n"
          ],
          "name": "stdout"
        },
        {
          "output_type": "stream",
          "text": [
            "\r  2%|▏         | 30/2000 [00:30<28:45,  1.14it/s]"
          ],
          "name": "stderr"
        },
        {
          "output_type": "stream",
          "text": [
            "29 [D Loss: 0.164993, Accuracy: 96.88%] [G Loss: 4.811796]\n"
          ],
          "name": "stdout"
        },
        {
          "output_type": "stream",
          "text": [
            "\r  2%|▏         | 31/2000 [00:31<28:00,  1.17it/s]"
          ],
          "name": "stderr"
        },
        {
          "output_type": "stream",
          "text": [
            "30 [D Loss: 0.084169, Accuracy: 96.88%] [G Loss: 4.513910]\n"
          ],
          "name": "stdout"
        },
        {
          "output_type": "stream",
          "text": [
            "\r  2%|▏         | 32/2000 [00:31<27:37,  1.19it/s]"
          ],
          "name": "stderr"
        },
        {
          "output_type": "stream",
          "text": [
            "31 [D Loss: 0.061390, Accuracy: 100.00%] [G Loss: 4.778842]\n"
          ],
          "name": "stdout"
        },
        {
          "output_type": "stream",
          "text": [
            "\r  2%|▏         | 33/2000 [00:32<27:29,  1.19it/s]"
          ],
          "name": "stderr"
        },
        {
          "output_type": "stream",
          "text": [
            "32 [D Loss: 0.121794, Accuracy: 96.88%] [G Loss: 4.961648]\n"
          ],
          "name": "stdout"
        },
        {
          "output_type": "stream",
          "text": [
            "\r  2%|▏         | 34/2000 [00:33<27:18,  1.20it/s]"
          ],
          "name": "stderr"
        },
        {
          "output_type": "stream",
          "text": [
            "33 [D Loss: 0.072015, Accuracy: 100.00%] [G Loss: 4.599379]\n"
          ],
          "name": "stdout"
        },
        {
          "output_type": "stream",
          "text": [
            "\r  2%|▏         | 35/2000 [00:34<27:22,  1.20it/s]"
          ],
          "name": "stderr"
        },
        {
          "output_type": "stream",
          "text": [
            "34 [D Loss: 0.148109, Accuracy: 96.88%] [G Loss: 4.644799]\n"
          ],
          "name": "stdout"
        },
        {
          "output_type": "stream",
          "text": [
            "\r  2%|▏         | 36/2000 [00:35<27:03,  1.21it/s]"
          ],
          "name": "stderr"
        },
        {
          "output_type": "stream",
          "text": [
            "35 [D Loss: 0.194678, Accuracy: 93.75%] [G Loss: 4.826119]\n"
          ],
          "name": "stdout"
        },
        {
          "output_type": "stream",
          "text": [
            "\r  2%|▏         | 37/2000 [00:36<27:01,  1.21it/s]"
          ],
          "name": "stderr"
        },
        {
          "output_type": "stream",
          "text": [
            "36 [D Loss: 0.109887, Accuracy: 98.44%] [G Loss: 5.047412]\n"
          ],
          "name": "stdout"
        },
        {
          "output_type": "stream",
          "text": [
            "\r  2%|▏         | 38/2000 [00:36<27:41,  1.18it/s]"
          ],
          "name": "stderr"
        },
        {
          "output_type": "stream",
          "text": [
            "37 [D Loss: 0.084334, Accuracy: 100.00%] [G Loss: 5.049407]\n"
          ],
          "name": "stdout"
        },
        {
          "output_type": "stream",
          "text": [
            "\r  2%|▏         | 39/2000 [00:38<31:05,  1.05it/s]"
          ],
          "name": "stderr"
        },
        {
          "output_type": "stream",
          "text": [
            "38 [D Loss: 0.195925, Accuracy: 93.75%] [G Loss: 6.077057]\n"
          ],
          "name": "stdout"
        },
        {
          "output_type": "stream",
          "text": [
            "\r  2%|▏         | 40/2000 [00:39<32:42,  1.00s/it]"
          ],
          "name": "stderr"
        },
        {
          "output_type": "stream",
          "text": [
            "39 [D Loss: 0.877066, Accuracy: 54.69%] [G Loss: 7.983312]\n"
          ],
          "name": "stdout"
        },
        {
          "output_type": "stream",
          "text": [
            "\r  2%|▏         | 41/2000 [00:40<34:06,  1.04s/it]"
          ],
          "name": "stderr"
        },
        {
          "output_type": "stream",
          "text": [
            "40 [D Loss: 0.113660, Accuracy: 96.88%] [G Loss: 7.726018]\n"
          ],
          "name": "stdout"
        },
        {
          "output_type": "stream",
          "text": [
            "\r  2%|▏         | 42/2000 [00:41<32:22,  1.01it/s]"
          ],
          "name": "stderr"
        },
        {
          "output_type": "stream",
          "text": [
            "41 [D Loss: 0.265452, Accuracy: 92.19%] [G Loss: 4.384218]\n"
          ],
          "name": "stdout"
        },
        {
          "output_type": "stream",
          "text": [
            "\r  2%|▏         | 43/2000 [00:42<30:33,  1.07it/s]"
          ],
          "name": "stderr"
        },
        {
          "output_type": "stream",
          "text": [
            "42 [D Loss: 0.160710, Accuracy: 92.19%] [G Loss: 7.016768]\n"
          ],
          "name": "stdout"
        },
        {
          "output_type": "stream",
          "text": [
            "\r  2%|▏         | 44/2000 [00:42<29:40,  1.10it/s]"
          ],
          "name": "stderr"
        },
        {
          "output_type": "stream",
          "text": [
            "43 [D Loss: 1.718080, Accuracy: 20.31%] [G Loss: 8.685532]\n"
          ],
          "name": "stdout"
        },
        {
          "output_type": "stream",
          "text": [
            "\r  2%|▏         | 45/2000 [00:43<28:46,  1.13it/s]"
          ],
          "name": "stderr"
        },
        {
          "output_type": "stream",
          "text": [
            "44 [D Loss: 0.175983, Accuracy: 93.75%] [G Loss: 7.455325]\n"
          ],
          "name": "stdout"
        },
        {
          "output_type": "stream",
          "text": [
            "\r  2%|▏         | 46/2000 [00:44<27:59,  1.16it/s]"
          ],
          "name": "stderr"
        },
        {
          "output_type": "stream",
          "text": [
            "45 [D Loss: 0.949334, Accuracy: 50.00%] [G Loss: 7.151508]\n"
          ],
          "name": "stdout"
        },
        {
          "output_type": "stream",
          "text": [
            "\r  2%|▏         | 47/2000 [00:45<27:31,  1.18it/s]"
          ],
          "name": "stderr"
        },
        {
          "output_type": "stream",
          "text": [
            "46 [D Loss: 0.358787, Accuracy: 84.38%] [G Loss: 5.268753]\n"
          ],
          "name": "stdout"
        },
        {
          "output_type": "stream",
          "text": [
            "\r  2%|▏         | 48/2000 [00:46<27:26,  1.19it/s]"
          ],
          "name": "stderr"
        },
        {
          "output_type": "stream",
          "text": [
            "47 [D Loss: 0.292944, Accuracy: 87.50%] [G Loss: 6.188077]\n"
          ],
          "name": "stdout"
        },
        {
          "output_type": "stream",
          "text": [
            "\r  2%|▏         | 49/2000 [00:47<27:06,  1.20it/s]"
          ],
          "name": "stderr"
        },
        {
          "output_type": "stream",
          "text": [
            "48 [D Loss: 0.351480, Accuracy: 82.81%] [G Loss: 5.385768]\n"
          ],
          "name": "stdout"
        },
        {
          "output_type": "stream",
          "text": [
            "\r  2%|▎         | 50/2000 [00:47<27:00,  1.20it/s]"
          ],
          "name": "stderr"
        },
        {
          "output_type": "stream",
          "text": [
            "49 [D Loss: 0.700417, Accuracy: 62.50%] [G Loss: 7.163206]\n"
          ],
          "name": "stdout"
        },
        {
          "output_type": "stream",
          "text": [
            "\r  3%|▎         | 51/2000 [00:48<26:47,  1.21it/s]"
          ],
          "name": "stderr"
        },
        {
          "output_type": "stream",
          "text": [
            "50 [D Loss: 0.505342, Accuracy: 76.56%] [G Loss: 4.957339]\n"
          ],
          "name": "stdout"
        },
        {
          "output_type": "stream",
          "text": [
            "\r  3%|▎         | 52/2000 [00:49<26:33,  1.22it/s]"
          ],
          "name": "stderr"
        },
        {
          "output_type": "stream",
          "text": [
            "51 [D Loss: 0.305719, Accuracy: 87.50%] [G Loss: 3.980823]\n"
          ],
          "name": "stdout"
        },
        {
          "output_type": "stream",
          "text": [
            "\r  3%|▎         | 53/2000 [00:50<26:31,  1.22it/s]"
          ],
          "name": "stderr"
        },
        {
          "output_type": "stream",
          "text": [
            "52 [D Loss: 0.237623, Accuracy: 92.19%] [G Loss: 5.072089]\n"
          ],
          "name": "stdout"
        },
        {
          "output_type": "stream",
          "text": [
            "\r  3%|▎         | 54/2000 [00:51<26:21,  1.23it/s]"
          ],
          "name": "stderr"
        },
        {
          "output_type": "stream",
          "text": [
            "53 [D Loss: 0.727354, Accuracy: 65.62%] [G Loss: 5.033489]\n"
          ],
          "name": "stdout"
        },
        {
          "output_type": "stream",
          "text": [
            "\r  3%|▎         | 55/2000 [00:51<26:20,  1.23it/s]"
          ],
          "name": "stderr"
        },
        {
          "output_type": "stream",
          "text": [
            "54 [D Loss: 0.077250, Accuracy: 100.00%] [G Loss: 5.269897]\n"
          ],
          "name": "stdout"
        },
        {
          "output_type": "stream",
          "text": [
            "\r  3%|▎         | 56/2000 [00:52<28:12,  1.15it/s]"
          ],
          "name": "stderr"
        },
        {
          "output_type": "stream",
          "text": [
            "55 [D Loss: 0.569655, Accuracy: 73.44%] [G Loss: 5.839991]\n"
          ],
          "name": "stdout"
        },
        {
          "output_type": "stream",
          "text": [
            "\r  3%|▎         | 57/2000 [00:54<32:17,  1.00it/s]"
          ],
          "name": "stderr"
        },
        {
          "output_type": "stream",
          "text": [
            "56 [D Loss: 0.600408, Accuracy: 60.94%] [G Loss: 5.619692]\n"
          ],
          "name": "stdout"
        },
        {
          "output_type": "stream",
          "text": [
            "\r  3%|▎         | 58/2000 [00:55<34:45,  1.07s/it]"
          ],
          "name": "stderr"
        },
        {
          "output_type": "stream",
          "text": [
            "57 [D Loss: 1.808767, Accuracy: 25.00%] [G Loss: 6.011769]\n"
          ],
          "name": "stdout"
        },
        {
          "output_type": "stream",
          "text": [
            "\r  3%|▎         | 59/2000 [00:56<36:36,  1.13s/it]"
          ],
          "name": "stderr"
        },
        {
          "output_type": "stream",
          "text": [
            "58 [D Loss: 0.667666, Accuracy: 64.06%] [G Loss: 2.946848]\n"
          ],
          "name": "stdout"
        },
        {
          "output_type": "stream",
          "text": [
            "\r  3%|▎         | 60/2000 [00:57<36:56,  1.14s/it]"
          ],
          "name": "stderr"
        },
        {
          "output_type": "stream",
          "text": [
            "59 [D Loss: 0.490569, Accuracy: 76.56%] [G Loss: 5.062639]\n"
          ],
          "name": "stdout"
        },
        {
          "output_type": "stream",
          "text": [
            "\r  3%|▎         | 61/2000 [00:58<35:54,  1.11s/it]"
          ],
          "name": "stderr"
        },
        {
          "output_type": "stream",
          "text": [
            "60 [D Loss: 0.392862, Accuracy: 85.94%] [G Loss: 3.779133]\n"
          ],
          "name": "stdout"
        },
        {
          "output_type": "stream",
          "text": [
            "\r  3%|▎         | 62/2000 [01:00<39:12,  1.21s/it]"
          ],
          "name": "stderr"
        },
        {
          "output_type": "stream",
          "text": [
            "61 [D Loss: 0.558223, Accuracy: 76.56%] [G Loss: 4.579414]\n"
          ],
          "name": "stdout"
        },
        {
          "output_type": "stream",
          "text": [
            "\r  3%|▎         | 63/2000 [01:01<38:42,  1.20s/it]"
          ],
          "name": "stderr"
        },
        {
          "output_type": "stream",
          "text": [
            "62 [D Loss: 0.231115, Accuracy: 93.75%] [G Loss: 3.800203]\n"
          ],
          "name": "stdout"
        },
        {
          "output_type": "stream",
          "text": [
            "\r  3%|▎         | 64/2000 [01:02<38:21,  1.19s/it]"
          ],
          "name": "stderr"
        },
        {
          "output_type": "stream",
          "text": [
            "63 [D Loss: 0.505725, Accuracy: 75.00%] [G Loss: 4.613113]\n"
          ],
          "name": "stdout"
        },
        {
          "output_type": "stream",
          "text": [
            "\r  3%|▎         | 65/2000 [01:03<38:25,  1.19s/it]"
          ],
          "name": "stderr"
        },
        {
          "output_type": "stream",
          "text": [
            "64 [D Loss: 0.408446, Accuracy: 85.94%] [G Loss: 4.092196]\n"
          ],
          "name": "stdout"
        },
        {
          "output_type": "stream",
          "text": [
            "\r  3%|▎         | 66/2000 [01:05<40:45,  1.26s/it]"
          ],
          "name": "stderr"
        },
        {
          "output_type": "stream",
          "text": [
            "65 [D Loss: 0.835742, Accuracy: 51.56%] [G Loss: 4.846746]\n"
          ],
          "name": "stdout"
        },
        {
          "output_type": "stream",
          "text": [
            "\r  3%|▎         | 67/2000 [01:06<41:57,  1.30s/it]"
          ],
          "name": "stderr"
        },
        {
          "output_type": "stream",
          "text": [
            "66 [D Loss: 0.961711, Accuracy: 50.00%] [G Loss: 3.329420]\n"
          ],
          "name": "stdout"
        },
        {
          "output_type": "stream",
          "text": [
            "\r  3%|▎         | 68/2000 [01:08<41:59,  1.30s/it]"
          ],
          "name": "stderr"
        },
        {
          "output_type": "stream",
          "text": [
            "67 [D Loss: 0.353685, Accuracy: 81.25%] [G Loss: 4.142644]\n"
          ],
          "name": "stdout"
        },
        {
          "output_type": "stream",
          "text": [
            "\r  3%|▎         | 69/2000 [01:09<44:29,  1.38s/it]"
          ],
          "name": "stderr"
        },
        {
          "output_type": "stream",
          "text": [
            "68 [D Loss: 0.570765, Accuracy: 75.00%] [G Loss: 3.917221]\n"
          ],
          "name": "stdout"
        },
        {
          "output_type": "stream",
          "text": [
            "\r  4%|▎         | 70/2000 [01:11<46:41,  1.45s/it]"
          ],
          "name": "stderr"
        },
        {
          "output_type": "stream",
          "text": [
            "69 [D Loss: 0.546876, Accuracy: 73.44%] [G Loss: 4.220819]\n"
          ],
          "name": "stdout"
        },
        {
          "output_type": "stream",
          "text": [
            "\r  4%|▎         | 71/2000 [01:12<48:06,  1.50s/it]"
          ],
          "name": "stderr"
        },
        {
          "output_type": "stream",
          "text": [
            "70 [D Loss: 0.159182, Accuracy: 96.88%] [G Loss: 4.249769]\n"
          ],
          "name": "stdout"
        },
        {
          "output_type": "stream",
          "text": [
            "\r  4%|▎         | 72/2000 [01:14<48:49,  1.52s/it]"
          ],
          "name": "stderr"
        },
        {
          "output_type": "stream",
          "text": [
            "71 [D Loss: 0.678949, Accuracy: 59.38%] [G Loss: 3.039072]\n"
          ],
          "name": "stdout"
        },
        {
          "output_type": "stream",
          "text": [
            "\r  4%|▎         | 73/2000 [01:15<49:46,  1.55s/it]"
          ],
          "name": "stderr"
        },
        {
          "output_type": "stream",
          "text": [
            "72 [D Loss: 0.209239, Accuracy: 90.62%] [G Loss: 4.052994]\n"
          ],
          "name": "stdout"
        },
        {
          "output_type": "stream",
          "text": [
            "\r  4%|▎         | 74/2000 [01:17<49:08,  1.53s/it]"
          ],
          "name": "stderr"
        },
        {
          "output_type": "stream",
          "text": [
            "73 [D Loss: 0.420951, Accuracy: 82.81%] [G Loss: 3.757016]\n"
          ],
          "name": "stdout"
        },
        {
          "output_type": "stream",
          "text": [
            "\r  4%|▍         | 75/2000 [01:19<49:11,  1.53s/it]"
          ],
          "name": "stderr"
        },
        {
          "output_type": "stream",
          "text": [
            "74 [D Loss: 0.674283, Accuracy: 64.06%] [G Loss: 3.703680]\n"
          ],
          "name": "stdout"
        },
        {
          "output_type": "stream",
          "text": [
            "\r  4%|▍         | 76/2000 [01:20<48:50,  1.52s/it]"
          ],
          "name": "stderr"
        },
        {
          "output_type": "stream",
          "text": [
            "75 [D Loss: 0.460272, Accuracy: 73.44%] [G Loss: 4.028570]\n"
          ],
          "name": "stdout"
        },
        {
          "output_type": "stream",
          "text": [
            "\r  4%|▍         | 77/2000 [01:22<49:22,  1.54s/it]"
          ],
          "name": "stderr"
        },
        {
          "output_type": "stream",
          "text": [
            "76 [D Loss: 1.054156, Accuracy: 40.62%] [G Loss: 3.303466]\n"
          ],
          "name": "stdout"
        },
        {
          "output_type": "stream",
          "text": [
            "\r  4%|▍         | 78/2000 [01:23<48:58,  1.53s/it]"
          ],
          "name": "stderr"
        },
        {
          "output_type": "stream",
          "text": [
            "77 [D Loss: 0.549978, Accuracy: 73.44%] [G Loss: 3.438241]\n"
          ],
          "name": "stdout"
        },
        {
          "output_type": "stream",
          "text": [
            "\r  4%|▍         | 79/2000 [01:25<49:46,  1.55s/it]"
          ],
          "name": "stderr"
        },
        {
          "output_type": "stream",
          "text": [
            "78 [D Loss: 1.123861, Accuracy: 35.94%] [G Loss: 3.313253]\n"
          ],
          "name": "stdout"
        },
        {
          "output_type": "stream",
          "text": [
            "\r  4%|▍         | 80/2000 [01:26<49:24,  1.54s/it]"
          ],
          "name": "stderr"
        },
        {
          "output_type": "stream",
          "text": [
            "79 [D Loss: 0.590436, Accuracy: 70.31%] [G Loss: 2.879779]\n"
          ],
          "name": "stdout"
        },
        {
          "output_type": "stream",
          "text": [
            "\r  4%|▍         | 81/2000 [01:28<49:17,  1.54s/it]"
          ],
          "name": "stderr"
        },
        {
          "output_type": "stream",
          "text": [
            "80 [D Loss: 0.393243, Accuracy: 87.50%] [G Loss: 3.191059]\n"
          ],
          "name": "stdout"
        },
        {
          "output_type": "stream",
          "text": [
            "\r  4%|▍         | 82/2000 [01:29<49:07,  1.54s/it]"
          ],
          "name": "stderr"
        },
        {
          "output_type": "stream",
          "text": [
            "81 [D Loss: 0.585187, Accuracy: 68.75%] [G Loss: 2.864755]\n"
          ],
          "name": "stdout"
        },
        {
          "output_type": "stream",
          "text": [
            "\r  4%|▍         | 83/2000 [01:31<49:09,  1.54s/it]"
          ],
          "name": "stderr"
        },
        {
          "output_type": "stream",
          "text": [
            "82 [D Loss: 0.264690, Accuracy: 93.75%] [G Loss: 3.406857]\n"
          ],
          "name": "stdout"
        },
        {
          "output_type": "stream",
          "text": [
            "\r  4%|▍         | 84/2000 [01:32<49:41,  1.56s/it]"
          ],
          "name": "stderr"
        },
        {
          "output_type": "stream",
          "text": [
            "83 [D Loss: 0.525271, Accuracy: 75.00%] [G Loss: 2.732328]\n"
          ],
          "name": "stdout"
        },
        {
          "output_type": "stream",
          "text": [
            "\r  4%|▍         | 85/2000 [01:34<49:27,  1.55s/it]"
          ],
          "name": "stderr"
        },
        {
          "output_type": "stream",
          "text": [
            "84 [D Loss: 0.456089, Accuracy: 76.56%] [G Loss: 2.786453]\n"
          ],
          "name": "stdout"
        },
        {
          "output_type": "stream",
          "text": [
            "\r  4%|▍         | 86/2000 [01:36<49:46,  1.56s/it]"
          ],
          "name": "stderr"
        },
        {
          "output_type": "stream",
          "text": [
            "85 [D Loss: 0.491667, Accuracy: 73.44%] [G Loss: 3.094665]\n"
          ],
          "name": "stdout"
        },
        {
          "output_type": "stream",
          "text": [
            "\r  4%|▍         | 87/2000 [01:37<49:23,  1.55s/it]"
          ],
          "name": "stderr"
        },
        {
          "output_type": "stream",
          "text": [
            "86 [D Loss: 0.754007, Accuracy: 60.94%] [G Loss: 3.041439]\n"
          ],
          "name": "stdout"
        },
        {
          "output_type": "stream",
          "text": [
            "\r  4%|▍         | 88/2000 [01:39<49:45,  1.56s/it]"
          ],
          "name": "stderr"
        },
        {
          "output_type": "stream",
          "text": [
            "87 [D Loss: 0.601922, Accuracy: 71.88%] [G Loss: 2.825193]\n"
          ],
          "name": "stdout"
        },
        {
          "output_type": "stream",
          "text": [
            "\r  4%|▍         | 89/2000 [01:40<49:24,  1.55s/it]"
          ],
          "name": "stderr"
        },
        {
          "output_type": "stream",
          "text": [
            "88 [D Loss: 0.521986, Accuracy: 71.88%] [G Loss: 3.030275]\n"
          ],
          "name": "stdout"
        },
        {
          "output_type": "stream",
          "text": [
            "\r  4%|▍         | 90/2000 [01:42<49:27,  1.55s/it]"
          ],
          "name": "stderr"
        },
        {
          "output_type": "stream",
          "text": [
            "89 [D Loss: 0.570793, Accuracy: 67.19%] [G Loss: 3.130716]\n"
          ],
          "name": "stdout"
        },
        {
          "output_type": "stream",
          "text": [
            "\r  5%|▍         | 91/2000 [01:43<49:13,  1.55s/it]"
          ],
          "name": "stderr"
        },
        {
          "output_type": "stream",
          "text": [
            "90 [D Loss: 0.754725, Accuracy: 57.81%] [G Loss: 3.223741]\n"
          ],
          "name": "stdout"
        },
        {
          "output_type": "stream",
          "text": [
            "\r  5%|▍         | 92/2000 [01:45<48:50,  1.54s/it]"
          ],
          "name": "stderr"
        },
        {
          "output_type": "stream",
          "text": [
            "91 [D Loss: 0.365360, Accuracy: 85.94%] [G Loss: 3.092919]\n"
          ],
          "name": "stdout"
        },
        {
          "output_type": "stream",
          "text": [
            "\r  5%|▍         | 93/2000 [01:46<48:51,  1.54s/it]"
          ],
          "name": "stderr"
        },
        {
          "output_type": "stream",
          "text": [
            "92 [D Loss: 0.524739, Accuracy: 76.56%] [G Loss: 2.988616]\n"
          ],
          "name": "stdout"
        },
        {
          "output_type": "stream",
          "text": [
            "\r  5%|▍         | 94/2000 [01:48<48:40,  1.53s/it]"
          ],
          "name": "stderr"
        },
        {
          "output_type": "stream",
          "text": [
            "93 [D Loss: 0.467615, Accuracy: 75.00%] [G Loss: 2.854761]\n"
          ],
          "name": "stdout"
        },
        {
          "output_type": "stream",
          "text": [
            "\r  5%|▍         | 95/2000 [01:49<48:52,  1.54s/it]"
          ],
          "name": "stderr"
        },
        {
          "output_type": "stream",
          "text": [
            "94 [D Loss: 0.478598, Accuracy: 76.56%] [G Loss: 2.678497]\n"
          ],
          "name": "stdout"
        },
        {
          "output_type": "stream",
          "text": [
            "\r  5%|▍         | 96/2000 [01:51<48:43,  1.54s/it]"
          ],
          "name": "stderr"
        },
        {
          "output_type": "stream",
          "text": [
            "95 [D Loss: 0.482231, Accuracy: 73.44%] [G Loss: 3.297785]\n"
          ],
          "name": "stdout"
        },
        {
          "output_type": "stream",
          "text": [
            "\r  5%|▍         | 97/2000 [01:53<49:06,  1.55s/it]"
          ],
          "name": "stderr"
        },
        {
          "output_type": "stream",
          "text": [
            "96 [D Loss: 0.510346, Accuracy: 73.44%] [G Loss: 2.702838]\n"
          ],
          "name": "stdout"
        },
        {
          "output_type": "stream",
          "text": [
            "\r  5%|▍         | 98/2000 [01:54<48:47,  1.54s/it]"
          ],
          "name": "stderr"
        },
        {
          "output_type": "stream",
          "text": [
            "97 [D Loss: 0.485459, Accuracy: 73.44%] [G Loss: 3.189237]\n"
          ],
          "name": "stdout"
        },
        {
          "output_type": "stream",
          "text": [
            "\r  5%|▍         | 99/2000 [01:56<49:52,  1.57s/it]"
          ],
          "name": "stderr"
        },
        {
          "output_type": "stream",
          "text": [
            "98 [D Loss: 0.757325, Accuracy: 56.25%] [G Loss: 2.992875]\n"
          ],
          "name": "stdout"
        },
        {
          "output_type": "stream",
          "text": [
            "\r  5%|▌         | 100/2000 [01:57<51:05,  1.61s/it]"
          ],
          "name": "stderr"
        },
        {
          "output_type": "stream",
          "text": [
            "99 [D Loss: 0.844963, Accuracy: 48.44%] [G Loss: 2.645827]\n"
          ],
          "name": "stdout"
        },
        {
          "output_type": "stream",
          "text": [
            "\r  5%|▌         | 101/2000 [01:59<51:41,  1.63s/it]"
          ],
          "name": "stderr"
        },
        {
          "output_type": "stream",
          "text": [
            "100 [D Loss: 0.479345, Accuracy: 78.12%] [G Loss: 2.927656]\n"
          ],
          "name": "stdout"
        },
        {
          "output_type": "stream",
          "text": [
            "\r  5%|▌         | 102/2000 [02:01<51:23,  1.62s/it]"
          ],
          "name": "stderr"
        },
        {
          "output_type": "stream",
          "text": [
            "101 [D Loss: 0.678319, Accuracy: 57.81%] [G Loss: 2.514822]\n"
          ],
          "name": "stdout"
        },
        {
          "output_type": "stream",
          "text": [
            "\r  5%|▌         | 103/2000 [02:02<51:18,  1.62s/it]"
          ],
          "name": "stderr"
        },
        {
          "output_type": "stream",
          "text": [
            "102 [D Loss: 0.386325, Accuracy: 81.25%] [G Loss: 3.005407]\n"
          ],
          "name": "stdout"
        }
      ]
    },
    {
      "metadata": {
        "id": "05Q50UtP_NcW",
        "colab_type": "code",
        "colab": {
          "base_uri": "https://localhost:8080/",
          "height": 34
        },
        "outputId": "72ae78ea-eee1-4bfe-f12d-e36c203ef572"
      },
      "cell_type": "code",
      "source": [
        "for number in range(0, 4000, 100):\n",
        "  file = 'mnist_model' + str(number) + '.png'\n",
        "  \n",
        "  try :\n",
        "    files.download(file)\n",
        "  except :\n",
        "    None\n",
        "    \n",
        "print (\"Images Downloaded To Local Drive\")"
      ],
      "execution_count": 1,
      "outputs": [
        {
          "output_type": "stream",
          "text": [
            "Images Downloaded To Local Drive\n"
          ],
          "name": "stdout"
        }
      ]
    },
    {
      "metadata": {
        "id": "JnuWZV6G7KR0",
        "colab_type": "code",
        "colab": {}
      },
      "cell_type": "code",
      "source": [
        ""
      ],
      "execution_count": 0,
      "outputs": []
    },
    {
      "metadata": {
        "id": "qN0OqqlXEwzK",
        "colab_type": "code",
        "colab": {}
      },
      "cell_type": "code",
      "source": [
        ""
      ],
      "execution_count": 0,
      "outputs": []
    }
  ]
}